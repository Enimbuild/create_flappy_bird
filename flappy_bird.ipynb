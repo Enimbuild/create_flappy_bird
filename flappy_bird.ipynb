{
 "cells": [
  {
   "attachments": {},
   "cell_type": "markdown",
   "metadata": {},
   "source": [
    "The necessary modules are imported."
   ]
  },
  {
   "cell_type": "code",
   "execution_count": null,
   "metadata": {},
   "outputs": [],
   "source": [
    "import pygame, random, time\n",
    "from pygame.locals import *"
   ]
  },
  {
   "attachments": {},
   "cell_type": "markdown",
   "metadata": {},
   "source": [
    "Several constant values are defined to set up the game screen, bird's speed, gravity, and game speed."
   ]
  },
  {
   "cell_type": "code",
   "execution_count": null,
   "metadata": {},
   "outputs": [],
   "source": [
    "SCREEN_WIDHT = 400\n",
    "SCREEN_HEIGHT = 600\n",
    "SPEED = 20\n",
    "GRAVITY = 2.5\n",
    "GAME_SPEED = 15"
   ]
  },
  {
   "attachments": {},
   "cell_type": "markdown",
   "metadata": {},
   "source": [
    "Constants are also defined for ground and pipes' width and height, and pipe gap."
   ]
  },
  {
   "cell_type": "code",
   "execution_count": null,
   "metadata": {},
   "outputs": [],
   "source": [
    "GROUND_WIDHT = 2 * SCREEN_WIDHT\n",
    "GROUND_HEIGHT= 100\n",
    "\n",
    "PIPE_WIDHT = 80\n",
    "PIPE_HEIGHT = 500\n",
    "\n",
    "PIPE_GAP = 150\n"
   ]
  },
  {
   "attachments": {},
   "cell_type": "markdown",
   "metadata": {},
   "source": [
    "Two sound effects are defined for the bird's wing flapping and collision sound, and the pygame mixer module is initialized."
   ]
  },
  {
   "cell_type": "code",
   "execution_count": null,
   "metadata": {},
   "outputs": [],
   "source": [
    "class Bird(pygame.sprite.Sprite):"
   ]
  },
  {
   "attachments": {},
   "cell_type": "markdown",
   "metadata": {},
   "source": [
    "The Bird class is defined as a subclass of the Pygame Sprite class."
   ]
  },
  {
   "cell_type": "code",
   "execution_count": null,
   "metadata": {},
   "outputs": [],
   "source": [
    "    def __init__(self):\n",
    "        pygame.sprite.Sprite.__init__(self)\n",
    "\n",
    "        self.images =  [pygame.image.load('assets/sprites/bluebird-upflap.png').convert_alpha(),\n",
    "                        pygame.image.load('assets/sprites/bluebird-midflap.png').convert_alpha(),\n",
    "                        pygame.image.load('assets/sprites/bluebird-downflap.png').convert_alpha()]\n",
    "\n",
    "        self.speed = SPEED\n",
    "\n",
    "        self.current_image = 0\n",
    "        self.image = pygame.image.load('assets/sprites/bluebird-upflap.png').convert_alpha()\n",
    "        self.mask = pygame.mask.from_surface(self.image)\n",
    "\n",
    "        self.rect = self.image.get_rect()\n",
    "        self.rect[0] = SCREEN_WIDHT / 6\n",
    "        self.rect[1] = SCREEN_HEIGHT / 2\n"
   ]
  },
  {
   "attachments": {},
   "cell_type": "markdown",
   "metadata": {},
   "source": [
    "The Bird class's constructor initializes the bird's attributes, including its speed, images for flapping animation, the current image, the bird's position, and the hitbox mask."
   ]
  },
  {
   "cell_type": "code",
   "execution_count": null,
   "metadata": {},
   "outputs": [],
   "source": [
    "    def update(self):\n",
    "        self.current_image = (self.current_image + 1) % 3\n",
    "        self.image = self.images[self.current_image]\n",
    "        self.speed += GRAVITY\n",
    "\n",
    "        #UPDATE HEIGHT\n",
    "        self.rect[1] += self.speed\n"
   ]
  },
  {
   "attachments": {},
   "cell_type": "markdown",
   "metadata": {},
   "source": [
    "The Bird class's update method updates the bird's position by increasing its speed with gravity, and changing its current image for animation purposes."
   ]
  },
  {
   "cell_type": "code",
   "execution_count": null,
   "metadata": {},
   "outputs": [],
   "source": [
    "    def bump(self):\n",
    "        self.speed = -SPEED\n"
   ]
  },
  {
   "attachments": {},
   "cell_type": "markdown",
   "metadata": {},
   "source": [
    "The bump method is called when the user presses the Spacebar, causing the bird to move upward. The Pipe class is defined as a subclass of the Pygame Sprite class."
   ]
  },
  {
   "cell_type": "code",
   "execution_count": null,
   "metadata": {},
   "outputs": [],
   "source": [
    "class Pipe(pygame.sprite.Sprite):\n",
    "        def __init__(self, inverted, xpos, ysize):\n",
    "        pygame.sprite.Sprite.__init__(self)\n",
    "\n",
    "        self. image = pygame.image.load('assets/sprites/pipe-green.png').convert_alpha()\n",
    "        self.image = pygame.transform.scale(self.image, (PIPE_WIDHT, PIPE_HEIGHT))\n",
    "\n",
    "\n",
    "        self.rect = self.image.get_rect()\n",
    "        self.rect[0] = xpos\n",
    "\n",
    "        if inverted:\n",
    "            self.image = pygame.transform.flip(self.image, False, True)\n",
    "            self.rect[1] = - (self.rect[3] - ysize)\n",
    "        else:\n",
    "            self.rect[1] = SCREEN_HEIGHT - ysize\n",
    "\n",
    "\n",
    "        self.mask = pygame.mask.from_surface(self.image)\n",
    "\n"
   ]
  },
  {
   "attachments": {},
   "cell_type": "markdown",
   "metadata": {},
   "source": [
    "The Pipe class's constructor initializes a pipe's attributes, including its image, position, and"
   ]
  }
 ],
 "metadata": {
  "language_info": {
   "name": "python"
  },
  "orig_nbformat": 4
 },
 "nbformat": 4,
 "nbformat_minor": 2
}
