{
 "cells": [
  {
   "attachments": {},
   "cell_type": "markdown",
   "metadata": {},
   "source": [
    "In this tutorial we will be creating the flappy bird game using python and the pygame module.\n",
    "we already have some audio files and images imported for this project.\n",
    "All files will be on git hub, for you to download and add on.\n",
    "let's start the python file.\n",
    "\n",
    "Thats the end folks. Get the files, and build on it.\n",
    "\n",
    "If you have not subscribed, please do and give me a like. Many thanks. Catch you in the next video\n",
    "Python can do wonderful things and its time to unleash the power of Python!!"
   ]
  }
 ],
 "metadata": {
  "language_info": {
   "name": "python"
  },
  "orig_nbformat": 4
 },
 "nbformat": 4,
 "nbformat_minor": 2
}
